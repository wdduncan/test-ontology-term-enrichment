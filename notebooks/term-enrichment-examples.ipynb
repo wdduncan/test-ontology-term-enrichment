{
 "cells": [
  {
   "cell_type": "markdown",
   "id": "a63e87df-ac78-4829-9233-2997704637e8",
   "metadata": {},
   "source": [
    "# Term Enrichment Examples\n",
    "**References**  \n",
    "- https://docs.scipy.org/doc/scipy/reference/generated/scipy.stats.hypergeom.html\n",
    "- http://prob140.org/sp17/textbook/ch8/Hypergeometric_Distribution.html\n",
    "\n",
    "**Website for checking p-values**\n",
    "- https://stattrek.com/online-calculator/hypergeometric"
   ]
  },
  {
   "cell_type": "code",
   "execution_count": 1,
   "id": "adf18393-93af-4dde-ac1f-a26ee40c8949",
   "metadata": {},
   "outputs": [],
   "source": [
    "%load_ext autoreload\n",
    "%autoreload 2"
   ]
  },
  {
   "cell_type": "code",
   "execution_count": 2,
   "id": "8b9c3616-f303-4c32-8122-0aaf59feb6d0",
   "metadata": {},
   "outputs": [],
   "source": [
    "import pandas as pd\n",
    "import numpy as np\n",
    "from scipy.stats import hypergeom"
   ]
  },
  {
   "cell_type": "markdown",
   "id": "45843c0b-471e-49b4-9ecc-576b8203199f",
   "metadata": {},
   "source": [
    "## marble example\n",
    "\n",
    "https://alexlenail.medium.com/understanding-and-implementing-the-hypergeometric-test-in-python-a7db688a7458  \n",
    "Suppose you have a jar containing 10 red marbles and 90 black marbles.  \n",
    "You collect 10 marbles from the jar.  \n",
    "What is the probability you collect k red marbles?  \n",
    "\n",
    "We can then compute a probability of drawing X red marbles out of N from a jar containing n red marbles out of M in the following way.  \n",
    "\n",
    "We draw 10 marbles, of which `7` are red (X = 7), and we’re interested to know how unlikely such a result is to occur by chance.  \n",
    "M: the population size (i.e., number of marbles) (previously N)  \n",
    "n: number of successes in the population (number of red marbles) (previously K)   \n",
    "N is the sample size (i.e., number of draws) (previously n)  \n",
    "x is still the number of drawn “successes”.  \n",
    "\n",
    "\n",
    "```\n",
    "from scipy.stats import hypergeom  \n",
    "pval = hypergeom.sf(x-1, M, n, N)  \n",
    "```"
   ]
  },
  {
   "cell_type": "code",
   "execution_count": 3,
   "id": "602566b1-e396-4d1a-82cb-7b5fad00b5df",
   "metadata": {},
   "outputs": [],
   "source": [
    "x = 7 - 1\n",
    "M = 100\n",
    "n = 10\n",
    "N = 10"
   ]
  },
  {
   "cell_type": "code",
   "execution_count": 4,
   "id": "ed6d34f1-7b88-4817-b254-318da6ef3ed6",
   "metadata": {},
   "outputs": [
    {
     "data": {
      "text/plain": [
       "8.248683269314892e-07"
      ]
     },
     "execution_count": 4,
     "metadata": {},
     "output_type": "execute_result"
    }
   ],
   "source": [
    "hypergeom.sf(x, M, n, N)"
   ]
  },
  {
   "cell_type": "markdown",
   "id": "aec91540-ca3d-4c95-a80c-cf2c0b0529c4",
   "metadata": {},
   "source": [
    "## red and black balls example  \n",
    "Say I have a bag with 19275 balls, 4 of which are red, the rest of which are black, and I draw 2880 balls without replacement. I happen to draw all 4 red balls.  \n",
    "x: 4-1 (number of successful red balls drawn)  \n",
    "M: 19275 (number of balls)  \n",
    "n: 4 (number of red balls)  \n",
    "N: 2880 (number of daws)  \n",
    "\n",
    "`hypergeom.sf(3, 19275, 4, 2880)`"
   ]
  },
  {
   "cell_type": "code",
   "execution_count": 5,
   "id": "af01a018-97f9-4f63-84be-fd391b2570b6",
   "metadata": {},
   "outputs": [
    {
     "data": {
      "text/plain": [
       "0.000497533644709495"
      ]
     },
     "execution_count": 5,
     "metadata": {},
     "output_type": "execute_result"
    }
   ],
   "source": [
    "hypergeom.sf(3, 19275, 4, 2880)"
   ]
  },
  {
   "cell_type": "markdown",
   "id": "dcf774c1-4d1e-40de-aef6-0fc4ad4092f3",
   "metadata": {},
   "source": [
    "### genes and cancer\n",
    "Suppose our database contains 1000 patients (P), of which 300 of the patients have diagnosed with lung cancer (L).   \n",
    "We find a gene (G) that may be associated with lung cancer.  \n",
    "400 patients have been determined to have G. Of these patients, 200 are determined to have lung cancer.  \n",
    "Is G overexpressed (enriched)?  "
   ]
  },
  {
   "cell_type": "code",
   "execution_count": 6,
   "id": "fbc67621-eb61-4a81-b684-0ff6db0a05bd",
   "metadata": {},
   "outputs": [],
   "source": [
    "x = 200 - 1\n",
    "M = 1000\n",
    "n = 300\n",
    "N = 400"
   ]
  },
  {
   "cell_type": "code",
   "execution_count": 7,
   "id": "6310644c-2d6b-4e5b-ae36-4c22ccb71eec",
   "metadata": {},
   "outputs": [
    {
     "data": {
      "text/plain": [
       "0.000497533644709495"
      ]
     },
     "execution_count": 7,
     "metadata": {},
     "output_type": "execute_result"
    }
   ],
   "source": [
    "hypergeom.sf(3, 19275, 4, 2880)"
   ]
  },
  {
   "cell_type": "markdown",
   "id": "eb7a6706-8509-4b6e-92b1-995f0df23cce",
   "metadata": {},
   "source": [
    "## hypergeometic with genes  \n",
    "https://www.biostars.org/p/66729/  \n",
    "Suppose I have a list of genes: `mygenes: gene13,gene2,gene111`  \n",
    "And given another list of genes:  \n",
    "```\n",
    "gene_categoryA: gene1, gene2, gene44, gene111\n",
    "gene_categoryB: gene13,gene34\n",
    "```\n",
    "After comparing mygenes against gene_categoryA we see that there are 2 genes of categoryA in mygenes.  \n",
    "What I want to know whether these 2 genes (gene2 and gene111) occurrence is significantly more than expected.  \n",
    "What's is the best way to go about it.  \n",
    "\n",
    "```python\n",
    "import sys\n",
    "import scipy.stats as stats\n",
    "\n",
    "print 'total number in population: ' + sys.argv[1]\n",
    "print 'total number with condition in population: ' + sys.argv[2]\n",
    "print 'number in subset: ' + sys.argv[3]\n",
    "print 'number with condition in subset: ' + sys.argv[4]\n",
    "print 'p-value <= ' + sys.argv[4] + ': ' + \\ \n",
    "    stats.hypergeom.cdf(sys.argv[4], sys.argv[1], sys.argv[2], sys.argv[3])\n",
    "print 'p-value >= ' + sys.argv[4] + ': ' + \\\n",
    "    stats.hypergeom.sf(sys.argv[4]) - 1, sys.argv[1]), sys.argv[2]), sys.argv[3])\n",
    "```\n",
    "\n",
    "Mapping to function: `hypergeom.sf(x, M, n, N)`  \n",
    "```python\n",
    "x = sys.argv[4] # number with condition in subset\n",
    "M = sys.argv[1] # total number in population\n",
    "n = sys.argv[2] # total number with condition in population\n",
    "N = sys.argv[3] # total number with condition in subset\n",
    "```"
   ]
  },
  {
   "cell_type": "code",
   "execution_count": 8,
   "id": "9e659aae-c5a4-4d30-a8ae-78638d9ed919",
   "metadata": {},
   "outputs": [
    {
     "data": {
      "text/plain": [
       "0.0"
      ]
     },
     "execution_count": 8,
     "metadata": {},
     "output_type": "execute_result"
    }
   ],
   "source": [
    "gene1, gene2, gene44, gene111 = 1000, 12345, 32567, 9845\n",
    "gene13, gene34 = 5877, 34879\n",
    "\n",
    "gene_categoryA = [gene1, gene2, gene44, gene111]\n",
    "gene_categoryB = [gene13, gene34]\n",
    "\n",
    "x = gene13 + gene34\n",
    "M = gene1 + gene2 + gene44 + gene111 + gene13 + gene34 # total number of genes in the list\n",
    "n = gene1 + gene2 + gene44 + gene111\n",
    "N = gene111 + gene13 + gene34\n",
    "hypergeom.sf(x -1, M, n, N)"
   ]
  },
  {
   "cell_type": "markdown",
   "id": "413942a3-62ab-43da-9bbb-1dd6167c45b8",
   "metadata": {},
   "source": [
    "## playing cards example\n",
    "\n",
    "https://gist.github.com/fbrundu/cfa675c1d79b4ade4724\n",
    "\n",
    "A poker hand consists of 5 cards dealt at random without replacement from a standard deck of 52 cards of which 26 are red and the rest black. A poker hand is dealt. Find the chance that the hand contains three red cards and two black cards.\n",
    "\n",
    "To achieve it, we use the hypergeometric probability mass function. We want 3 cards from the set of 26 red cards and 2 from the set of 26. So the parameters for the hypergeometric function are:"
   ]
  },
  {
   "cell_type": "code",
   "execution_count": 9,
   "id": "59816d58-f74e-4ab8-a304-646d8f65f8a6",
   "metadata": {},
   "outputs": [],
   "source": [
    "x = 3   # Number of Type I cards we want in one hand\n",
    "M = 52  # Total number of cards\n",
    "n = 26  # Number of Type I cards (e.g. red cards) \n",
    "N = 5   # Number of draws (5 cards dealt in one poker hand)"
   ]
  },
  {
   "cell_type": "code",
   "execution_count": 10,
   "id": "054d163c-3b17-4f21-a4d7-5ad59ecc2470",
   "metadata": {},
   "outputs": [
    {
     "data": {
      "text/plain": [
       "0.5"
      ]
     },
     "execution_count": 10,
     "metadata": {},
     "output_type": "execute_result"
    }
   ],
   "source": [
    "hypergeom.sf(x-1, M, n, N)"
   ]
  },
  {
   "cell_type": "code",
   "execution_count": 11,
   "id": "4a33e3ef-e923-43ae-b051-4067329de3b2",
   "metadata": {},
   "outputs": [
    {
     "data": {
      "text/plain": [
       "0.5"
      ]
     },
     "execution_count": 11,
     "metadata": {},
     "output_type": "execute_result"
    }
   ],
   "source": [
    "1 - hypergeom.cdf(x-1, M, n, N)"
   ]
  },
  {
   "cell_type": "code",
   "execution_count": null,
   "id": "7f232f71-6b1d-4307-9a77-c7d27df07471",
   "metadata": {},
   "outputs": [],
   "source": []
  }
 ],
 "metadata": {
  "kernelspec": {
   "display_name": "Python 3 (ipykernel)",
   "language": "python",
   "name": "python3"
  },
  "language_info": {
   "codemirror_mode": {
    "name": "ipython",
    "version": 3
   },
   "file_extension": ".py",
   "mimetype": "text/x-python",
   "name": "python",
   "nbconvert_exporter": "python",
   "pygments_lexer": "ipython3",
   "version": "3.11.6"
  }
 },
 "nbformat": 4,
 "nbformat_minor": 5
}
