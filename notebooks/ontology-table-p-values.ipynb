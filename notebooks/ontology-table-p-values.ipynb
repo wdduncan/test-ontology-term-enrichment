{
 "cells": [
  {
   "cell_type": "markdown",
   "id": "444cdb34-2b0f-4182-8680-9f24f7336b50",
   "metadata": {},
   "source": [
    "# Ontology Table p-values  \n",
    "**Website for checking p-values**\n",
    "- https://stattrek.com/online-calculator/hypergeometric"
   ]
  },
  {
   "cell_type": "code",
   "execution_count": 1,
   "id": "544ea5ad-5c79-43e8-92c6-8de730739348",
   "metadata": {},
   "outputs": [],
   "source": [
    "%load_ext autoreload\n",
    "%autoreload 2"
   ]
  },
  {
   "cell_type": "code",
   "execution_count": 2,
   "id": "827956c1-f3e6-4468-ab4c-e324826b0517",
   "metadata": {},
   "outputs": [],
   "source": [
    "import pandas as pd\n",
    "import numpy as np\n",
    "from scipy.stats import hypergeom\n",
    "from rdflib import Graph, Literal, RDF, URIRef, OWL, RDFS, URIRef"
   ]
  },
  {
   "cell_type": "markdown",
   "id": "f68675fd-f710-4c87-856f-b10d557749cc",
   "metadata": {},
   "source": [
    "## verify hypergeom function outputs same/similar numbers as https://stattrek.com/online-calculator/hypergeometric  \n",
    "Example:\n",
    "- population size: `500`\n",
    "- Number of successes in population: `100`\n",
    "- Sample size: `50`\n",
    "- Number of successes in sample: `10`\n",
    "\n",
    "Outputs:\n",
    "- Hypergeometric probability: P(X=10): 0.14737\n",
    "- Cumulative probability: P(X<10): `0.43778`\n",
    "- Cumulative probability: P(X≤10): `0.58515`\n",
    "- Cumulative probability: P(X>10): `0.41485`\n",
    "- Cumulative probability: P(X≥10): `0.56222`"
   ]
  },
  {
   "cell_type": "code",
   "execution_count": 3,
   "id": "a94cc8f6-8b26-4886-84f6-a4fc795213eb",
   "metadata": {},
   "outputs": [],
   "source": [
    "x = 10  # number of successes in sample\n",
    "M = 500 # poulation size\n",
    "n = 100 # number of successes in population\n",
    "N = 50  # sample size"
   ]
  },
  {
   "cell_type": "markdown",
   "id": "d005c5f9-af78-441f-b784-3275c263e446",
   "metadata": {},
   "source": [
    "**hypergeom.sf** gives p-value for P(X≥10)"
   ]
  },
  {
   "cell_type": "code",
   "execution_count": 4,
   "id": "bcadcf42-e8f9-409f-bd75-b67f076a30b8",
   "metadata": {},
   "outputs": [
    {
     "data": {
      "text/plain": [
       "0.56222"
      ]
     },
     "execution_count": 4,
     "metadata": {},
     "output_type": "execute_result"
    }
   ],
   "source": [
    "pval = hypergeom.sf(x-1, M, n, N)\n",
    "round(pval, 5) # matches P(X≥10)"
   ]
  },
  {
   "cell_type": "markdown",
   "id": "bac1f72f-961a-4c51-9a73-12b3018795c1",
   "metadata": {},
   "source": [
    "**hypergeom.pmf** gives p-value for P(X=10)"
   ]
  },
  {
   "cell_type": "code",
   "execution_count": 5,
   "id": "8e325684-090f-428e-8d6b-328c48b2755e",
   "metadata": {},
   "outputs": [
    {
     "data": {
      "text/plain": [
       "0.14737"
      ]
     },
     "execution_count": 5,
     "metadata": {},
     "output_type": "execute_result"
    }
   ],
   "source": [
    "pval = hypergeom.pmf(x, M, n, N)\n",
    "round(pval, 5)"
   ]
  },
  {
   "cell_type": "markdown",
   "id": "3a58ad89-de5b-4b7f-93de-d2dfc6d2ad0d",
   "metadata": {},
   "source": [
    "---"
   ]
  },
  {
   "cell_type": "markdown",
   "id": "ac488eeb-d719-46c0-8768-2aec1b8c1e81",
   "metadata": {},
   "source": [
    "## load ontology\n",
    "- create list of classes and leaf classes\n",
    "- add instances to ancestor classes\n",
    "- calculate total number of instances\n",
    "- build dict with number of instances per class"
   ]
  },
  {
   "cell_type": "code",
   "execution_count": 6,
   "id": "077d241f-82fb-42f9-b715-5a0410661f75",
   "metadata": {},
   "outputs": [],
   "source": [
    "g = Graph().parse('../ontology/cancer_instances_merged.ttl')"
   ]
  },
  {
   "cell_type": "code",
   "execution_count": 7,
   "id": "b31d95c1-ec6c-473f-a110-7d1f4710ff49",
   "metadata": {},
   "outputs": [],
   "source": [
    "classes = [c for c in g.subjects(RDF.type, OWL.Class)]\n",
    "leaf_classes = [\n",
    "    uri for uri in classes\n",
    "    if len(list(g.subjects(RDFS.subClassOf, uri))) == 0\n",
    "]"
   ]
  },
  {
   "cell_type": "code",
   "execution_count": 8,
   "id": "34407a52-f0ab-4590-b99c-cd57e9054e8a",
   "metadata": {},
   "outputs": [],
   "source": [
    "for leaf_uri in leaf_classes:\n",
    "    instances = [i for i in g.subjects(RDF.type, leaf_uri)] \n",
    "    ancestors = list(g.transitive_objects(leaf_uri, RDFS.subClassOf))\n",
    "\n",
    "    for uri in ancestors:\n",
    "        for i in instances:\n",
    "            g.add((i, RDF.type, uri))"
   ]
  },
  {
   "cell_type": "code",
   "execution_count": 9,
   "id": "c753fbfc-b9f6-4e60-917e-4864dc6a99cb",
   "metadata": {},
   "outputs": [],
   "source": [
    "num_instances = len([i for i in g.subjects(RDF.type, OWL.NamedIndividual, unique=True)])"
   ]
  },
  {
   "cell_type": "code",
   "execution_count": 10,
   "id": "5d99864a-3d2f-4800-9a1a-d2531e7c00dc",
   "metadata": {},
   "outputs": [],
   "source": [
    "class_count_dict = {}\n",
    "for uri in classes:\n",
    "    class_name = str(uri).replace(\"http://example.com/cancers.owl/\", \"\")\n",
    "    class_count_dict[class_name] = len([i for i in g.subjects(RDF.type, uri, unique=True)])\n",
    "class_count_dict['num_classes'] = len(classes)\n",
    "class_count_dict['num_instances'] = num_instances"
   ]
  },
  {
   "cell_type": "code",
   "execution_count": 11,
   "id": "cac78990-3429-479d-933f-70aa1d059920",
   "metadata": {},
   "outputs": [
    {
     "data": {
      "text/plain": [
       "87"
      ]
     },
     "execution_count": 11,
     "metadata": {},
     "output_type": "execute_result"
    }
   ],
   "source": [
    "class_count_dict['asthma']"
   ]
  },
  {
   "cell_type": "markdown",
   "id": "f9380fcb-2db0-48d0-9e43-8ebf61288939",
   "metadata": {},
   "source": [
    "---"
   ]
  },
  {
   "cell_type": "markdown",
   "id": "d468730f-5678-4aad-9c8a-11be2287cd3a",
   "metadata": {},
   "source": [
    "## build association dataframe"
   ]
  },
  {
   "cell_type": "code",
   "execution_count": 12,
   "id": "e015711d-1533-43a2-a4e9-49b201651b66",
   "metadata": {},
   "outputs": [],
   "source": [
    "class_assoc_df = pd.DataFrame(columns=['subject', 'object', 'assoc', 'p_value'])\n",
    "for subj_class in classes: # iterate over classes in ontology\n",
    "    subj_class_name = str(subj_class).replace(\"http://example.com/cancers.owl/\", \"\")\n",
    "    subj_instances = [i for i in g.subjects(RDF.type, subj_class, unique=True)] # get instances for class\n",
    "    \n",
    "    if len(subj_instances) > 0: # check for instances; higher level class won't have instances (needs reasoning)\n",
    "        for obj_class in classes: # iterate over classes to find related objects\n",
    "            if subj_class == obj_class:\n",
    "                intersect, obj_class_name = subj_instances, subj_class_name\n",
    "\n",
    "                class_assoc_df.loc[len(class_assoc_df.index)] = {\n",
    "                    'subject': subj_class_name,\n",
    "                    'object': obj_class_name,\n",
    "                    'assoc': len(intersect),\n",
    "                    'p_value': 1.0 # place holder\n",
    "                }\n",
    "            else:\n",
    "                obj_class_name = str(obj_class).replace(\"http://example.com/cancers.owl/\", \"\")\n",
    "                obj_instances = set([i for i in g.subjects(RDF.type, obj_class)])\n",
    "\n",
    "                if len(obj_instances) > 0: # check for instances\n",
    "                    # print('\\tobj_class_name:', obj_class_name, len(obj_instances))\n",
    "                    si_objects = []\n",
    "                    for si in subj_instances:\n",
    "                        si_objects += [o for o in g.objects(si)]\n",
    "\n",
    "                    intersect = set(si_objects).intersection(obj_instances)\n",
    "                    if len(intersect) > 0:\n",
    "                        # print('subj_class_name:', subj_class_name, len(subj_instances), 'obj_class_name:', obj_class_name, len(obj_instances))\n",
    "                        # print('si_objects:', len(si_objects), 'intersect:', len(intersect))\n",
    "                        \n",
    "                        class_assoc_df.loc[len(class_assoc_df.index)] = {\n",
    "                            'subject': subj_class_name,\n",
    "                            'object': obj_class_name,\n",
    "                            'assoc': len(intersect), \n",
    "                            'p_value': 1.0 # place holder\n",
    "                        }"
   ]
  },
  {
   "cell_type": "code",
   "execution_count": 13,
   "id": "ba677ed1-d598-47e0-85a9-0b2017705246",
   "metadata": {},
   "outputs": [
    {
     "data": {
      "text/html": [
       "<div>\n",
       "<style scoped>\n",
       "    .dataframe tbody tr th:only-of-type {\n",
       "        vertical-align: middle;\n",
       "    }\n",
       "\n",
       "    .dataframe tbody tr th {\n",
       "        vertical-align: top;\n",
       "    }\n",
       "\n",
       "    .dataframe thead th {\n",
       "        text-align: right;\n",
       "    }\n",
       "</style>\n",
       "<table border=\"1\" class=\"dataframe\">\n",
       "  <thead>\n",
       "    <tr style=\"text-align: right;\">\n",
       "      <th></th>\n",
       "      <th>subject</th>\n",
       "      <th>object</th>\n",
       "      <th>assoc</th>\n",
       "      <th>p_value</th>\n",
       "    </tr>\n",
       "  </thead>\n",
       "  <tbody>\n",
       "    <tr>\n",
       "      <th>0</th>\n",
       "      <td>alchohol_use</td>\n",
       "      <td>alchohol_use</td>\n",
       "      <td>291</td>\n",
       "      <td>1.0</td>\n",
       "    </tr>\n",
       "    <tr>\n",
       "      <th>1</th>\n",
       "      <td>asthma</td>\n",
       "      <td>asthma</td>\n",
       "      <td>87</td>\n",
       "      <td>1.0</td>\n",
       "    </tr>\n",
       "    <tr>\n",
       "      <th>2</th>\n",
       "      <td>cancer</td>\n",
       "      <td>cancer</td>\n",
       "      <td>500</td>\n",
       "      <td>1.0</td>\n",
       "    </tr>\n",
       "    <tr>\n",
       "      <th>3</th>\n",
       "      <td>castration_resistant_prostate_cancer</td>\n",
       "      <td>castration_resistant_prostate_cancer</td>\n",
       "      <td>55</td>\n",
       "      <td>1.0</td>\n",
       "    </tr>\n",
       "    <tr>\n",
       "      <th>4</th>\n",
       "      <td>castration_sensitive_prostate_cancer</td>\n",
       "      <td>castration_sensitive_prostate_cancer</td>\n",
       "      <td>44</td>\n",
       "      <td>1.0</td>\n",
       "    </tr>\n",
       "  </tbody>\n",
       "</table>\n",
       "</div>"
      ],
      "text/plain": [
       "                                subject                                object  \\\n",
       "0                          alchohol_use                          alchohol_use   \n",
       "1                                asthma                                asthma   \n",
       "2                                cancer                                cancer   \n",
       "3  castration_resistant_prostate_cancer  castration_resistant_prostate_cancer   \n",
       "4  castration_sensitive_prostate_cancer  castration_sensitive_prostate_cancer   \n",
       "\n",
       "   assoc  p_value  \n",
       "0    291      1.0  \n",
       "1     87      1.0  \n",
       "2    500      1.0  \n",
       "3     55      1.0  \n",
       "4     44      1.0  "
      ]
     },
     "execution_count": 13,
     "metadata": {},
     "output_type": "execute_result"
    }
   ],
   "source": [
    "class_assoc_df.head()"
   ]
  },
  {
   "cell_type": "markdown",
   "id": "d89db10d-c2a6-42df-ba1d-27462b0bda0f",
   "metadata": {},
   "source": [
    "---"
   ]
  },
  {
   "cell_type": "code",
   "execution_count": 14,
   "id": "b9544ac0-1bee-4009-aa90-cea98ad0418a",
   "metadata": {},
   "outputs": [
    {
     "data": {
      "text/plain": [
       "87"
      ]
     },
     "execution_count": 14,
     "metadata": {},
     "output_type": "execute_result"
    }
   ],
   "source": [
    "class_count_dict['asthma'] "
   ]
  },
  {
   "cell_type": "code",
   "execution_count": 15,
   "id": "d5e588e0-00a7-4cfa-bf1c-1beb3fdeffd3",
   "metadata": {},
   "outputs": [],
   "source": [
    "for ix, subject, object, assoc, pval in class_assoc_df.itertuples():\n",
    "    # calc p-value\n",
    "    x = assoc - 1\n",
    "    M = class_count_dict['num_instances'] # size of population\n",
    "    n = class_count_dict[object]  # number of \"successes\" -> number of objects in population\n",
    "    N = class_count_dict[subject] # number of \"draws\"/\"chosen\" -> number of subjects in population\n",
    "\n",
    "    pval = hypergeom.sf(x-1, M, n, N)\n",
    "    class_assoc_df.loc[ix, 'p_value'] = round(pval, 4)"
   ]
  },
  {
   "cell_type": "code",
   "execution_count": 16,
   "id": "c35dc8e8-2f5e-4f9d-b791-ac5b31c38098",
   "metadata": {},
   "outputs": [
    {
     "data": {
      "text/html": [
       "<div>\n",
       "<style scoped>\n",
       "    .dataframe tbody tr th:only-of-type {\n",
       "        vertical-align: middle;\n",
       "    }\n",
       "\n",
       "    .dataframe tbody tr th {\n",
       "        vertical-align: top;\n",
       "    }\n",
       "\n",
       "    .dataframe thead th {\n",
       "        text-align: right;\n",
       "    }\n",
       "</style>\n",
       "<table border=\"1\" class=\"dataframe\">\n",
       "  <thead>\n",
       "    <tr style=\"text-align: right;\">\n",
       "      <th></th>\n",
       "      <th>subject</th>\n",
       "      <th>object</th>\n",
       "      <th>assoc</th>\n",
       "      <th>p_value</th>\n",
       "    </tr>\n",
       "  </thead>\n",
       "  <tbody>\n",
       "    <tr>\n",
       "      <th>21</th>\n",
       "      <td>patient</td>\n",
       "      <td>alchohol_use</td>\n",
       "      <td>291</td>\n",
       "      <td>0.0</td>\n",
       "    </tr>\n",
       "    <tr>\n",
       "      <th>22</th>\n",
       "      <td>patient</td>\n",
       "      <td>asthma</td>\n",
       "      <td>87</td>\n",
       "      <td>0.0</td>\n",
       "    </tr>\n",
       "    <tr>\n",
       "      <th>23</th>\n",
       "      <td>patient</td>\n",
       "      <td>cancer</td>\n",
       "      <td>500</td>\n",
       "      <td>0.0</td>\n",
       "    </tr>\n",
       "    <tr>\n",
       "      <th>24</th>\n",
       "      <td>patient</td>\n",
       "      <td>castration_resistant_prostate_cancer</td>\n",
       "      <td>55</td>\n",
       "      <td>0.0</td>\n",
       "    </tr>\n",
       "    <tr>\n",
       "      <th>25</th>\n",
       "      <td>patient</td>\n",
       "      <td>castration_sensitive_prostate_cancer</td>\n",
       "      <td>44</td>\n",
       "      <td>0.0</td>\n",
       "    </tr>\n",
       "  </tbody>\n",
       "</table>\n",
       "</div>"
      ],
      "text/plain": [
       "    subject                                object  assoc  p_value\n",
       "21  patient                          alchohol_use    291      0.0\n",
       "22  patient                                asthma     87      0.0\n",
       "23  patient                                cancer    500      0.0\n",
       "24  patient  castration_resistant_prostate_cancer     55      0.0\n",
       "25  patient  castration_sensitive_prostate_cancer     44      0.0"
      ]
     },
     "execution_count": 16,
     "metadata": {},
     "output_type": "execute_result"
    }
   ],
   "source": [
    "class_assoc_df[class_assoc_df.subject == 'patient'].head()"
   ]
  },
  {
   "cell_type": "code",
   "execution_count": null,
   "id": "91ff73a0-f04b-4dff-a547-b609805776d1",
   "metadata": {},
   "outputs": [],
   "source": []
  }
 ],
 "metadata": {
  "kernelspec": {
   "display_name": "Python 3 (ipykernel)",
   "language": "python",
   "name": "python3"
  },
  "language_info": {
   "codemirror_mode": {
    "name": "ipython",
    "version": 3
   },
   "file_extension": ".py",
   "mimetype": "text/x-python",
   "name": "python",
   "nbconvert_exporter": "python",
   "pygments_lexer": "ipython3",
   "version": "3.11.6"
  }
 },
 "nbformat": 4,
 "nbformat_minor": 5
}
